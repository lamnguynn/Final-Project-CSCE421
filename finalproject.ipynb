{
 "cells": [
  {
   "cell_type": "code",
   "execution_count": 129,
   "id": "fd5353bb",
   "metadata": {},
   "outputs": [],
   "source": [
    "import pandas as pd\n",
    "import numpy as np\n",
    "import matplotlib.pyplot as plt\n",
    "\n",
    "from numpy import NaN\n",
    "from sklearn.linear_model import LogisticRegression\n",
    "from sklearn.model_selection import train_test_split\n",
    "from sklearn.metrics import roc_auc_score, roc_curve\n",
    "from sklearn.tree import DecisionTreeClassifier\n",
    "from sklearn.neural_network import MLPClassifier\n",
    "from sklearn.pipeline import Pipeline\n",
    "from sklearn import metrics\n",
    "from sklearn import preprocessing\n",
    "\n",
    "from sklearn import impute\n"
   ]
  },
  {
   "cell_type": "code",
   "execution_count": 2,
   "id": "39b47613",
   "metadata": {},
   "outputs": [],
   "source": [
    "def load_data(x_path):\n",
    "    return pd.read_csv(x_path, low_memory=False)"
   ]
  },
  {
   "cell_type": "code",
   "execution_count": 3,
   "id": "1d16f05f",
   "metadata": {},
   "outputs": [],
   "source": [
    "x = load_data(\"train_x.csv\")\n",
    "y = load_data(\"train_y.csv\")\n",
    "mapping = dict(zip(y['patientunitstayid'], y['hospitaldischargestatus']))\n",
    "x['hospitaldischargestatus'] = x['patientunitstayid'].map(mapping)\n",
    "\n",
    "def extract_values(data, threshold, valName):\n",
    "    if(data.empty):\n",
    "        return 0,0,0,0\n",
    "    \n",
    "    data[valName] = data[valName].astype(float) \n",
    "    data = data[data[valName] < threshold] #remove outliers\n",
    "    data = data.sort_values('offset')     #sort by offset to get first and last values recorded\n",
    "    \n",
    "    maxHeartData = data[valName].max()\n",
    "    minHeartData = data[valName].min()\n",
    "    \n",
    "    if data.empty:\n",
    "        return maxHeartData, minHeartData, 0, 0\n",
    "    firstHeartData = data[valName].iloc[0]\n",
    "    lastHeartData = data[valName].iloc[-1]\n",
    "    \n",
    "    return maxHeartData, minHeartData, firstHeartData, lastHeartData\n",
    "\n",
    "def add_columns(df, name, data):\n",
    "    df[f'Max {name}'] = data[0]\n",
    "    df[f'Min {name}'] = data[1]\n",
    "    df[f'First {name}'] = data[2]\n",
    "    df[f'Last {name}'] = data[3]\n",
    "    \n",
    "    return df\n",
    "\n",
    "def correct_columns_div(df, name, size):\n",
    "    df[f'Max {name}']  = df[f'Max {name}'] / size\n",
    "    df[f'Min {name}'] = df[f'Min {name}'] / size\n",
    "    df[f'First {name}'] = df[f'First {name}'] / size\n",
    "    df[f'Last {name}'] = df[f'Last {name}'] / size\n",
    "    \n",
    "    return df\n",
    "\n",
    "def clean_data(x, no_y = False):\n",
    "    if no_y:\n",
    "        predictors = ['age', 'admissionweight', 'gender', 'patientunitstayid', 'nursingchartcelltypevalname', 'nursingchartvalue', 'offset', 'labname', 'labresult']\n",
    "    else:\n",
    "        predictors = ['age', 'admissionweight', 'gender', 'patientunitstayid', 'nursingchartcelltypevalname', 'nursingchartvalue', 'offset', 'labname', 'labresult', 'hospitaldischargestatus']    \n",
    "\n",
    "    x['gender'] = x['gender'].apply(lambda e: 1 if e == 'Female' else 0)\n",
    "    x['age'] = x['age'].apply(lambda e: 90 if e == '> 89' else e)\n",
    "    x['age'] = x['age'].apply(lambda e: int(e) if not e != e else e)\n",
    "    x = x[predictors]\n",
    "\n",
    "    unique_patients = x['patientunitstayid'].unique()\n",
    "    num_patients = len(unique_patients)\n",
    "    \n",
    "    new_df = []\n",
    "    for i in range(num_patients):\n",
    "        pid = unique_patients[i]\n",
    "        all_rows = x[x['patientunitstayid'] == pid]\n",
    "        \n",
    "        # Take the min and max, first and last heart rate\n",
    "        heartData = all_rows[all_rows['nursingchartcelltypevalname'] == 'Heart Rate'][['nursingchartcelltypevalname', 'nursingchartvalue', 'offset']]\n",
    "        maxHeartData, minHeartData, firstHeartData, lastHeartData = extract_values(heartData, 300, 'nursingchartvalue')\n",
    "\n",
    "        # Take the min and max, first and last respiratory rate\n",
    "        respData = all_rows[all_rows['nursingchartcelltypevalname'] == 'Respiratory Rate'][['nursingchartcelltypevalname', 'nursingchartvalue', 'offset']]\n",
    "        maxRespData, minRespData, firstRespData, lastRespData  = extract_values(respData, 1000, 'nursingchartvalue')\n",
    "        \n",
    "        # Take the min and max, first and last Non-Invasive BP Systolic\n",
    "        nibpsData = all_rows[all_rows['nursingchartcelltypevalname'] == 'Non-Invasive BP Systolic'][['nursingchartcelltypevalname', 'nursingchartvalue', 'offset']]\n",
    "        maxnibpsData, minnibpsData, firstnibpsData, lastnibpsData  = extract_values(nibpsData, 1000, 'nursingchartvalue')\n",
    "        \n",
    "        # Take the min and max, first and last Non-Invasive BP Mean\n",
    "        nibpmData = all_rows[all_rows['nursingchartcelltypevalname'] == 'Non-Invasive BP Mean'][['nursingchartcelltypevalname', 'nursingchartvalue', 'offset']]\n",
    "        maxnibpmData, minnibpmData, firstnibpmData, lastnibpmData  = extract_values(nibpmData, 1000, 'nursingchartvalue')\n",
    "        \n",
    "        # Take the min and max, first and last Non-Invasive BP Diastolic\n",
    "        nibpdData = all_rows[all_rows['nursingchartcelltypevalname'] == 'Non-Invasive BP Diastolic'][['nursingchartcelltypevalname', 'nursingchartvalue', 'offset']]\n",
    "        maxnibpdData, minnibpdData, firstnibpdData, lastnibpdData  = extract_values(nibpdData, 1000, 'nursingchartvalue')\n",
    "        \n",
    "        # Take the min and max, first and last O2 Saturation\n",
    "        o2Data = all_rows[all_rows['nursingchartcelltypevalname'] == 'O2 Saturation'][['nursingchartcelltypevalname', 'nursingchartvalue', 'offset']]\n",
    "        maxo2Data, mino2ata, firsto2Data, lasto2Data  = extract_values(o2Data, 1000, 'nursingchartvalue')\n",
    "        \n",
    "        # Take the first and last pH\n",
    "        pHData = all_rows[all_rows['labname'] == 'pH'][['labname', 'labresult', 'offset']]\n",
    "        maxpHData, minpHData, firstpHData, lastpHData  = extract_values(pHData, 1000, 'labresult')\n",
    "        \n",
    "        # Take the min and max, first and last glucose\n",
    "        glData = all_rows[all_rows['labname'] == 'pH'][['labname', 'labresult', 'offset']]\n",
    "        maxglData, minglData, firstglData, lastglData  = extract_values(glData, 1000, 'labresult')\n",
    "        \n",
    "        # Remove certain columns\n",
    "        all_rows = all_rows[all_rows['nursingchartcelltypevalname'] != 'Heart Rate']\n",
    "        all_rows = all_rows[all_rows['nursingchartcelltypevalname'] != 'Non-Invasive BP Systolic']\n",
    "        all_rows = all_rows[all_rows['nursingchartcelltypevalname'] != 'Non-Invasive BP Mean']\n",
    "        all_rows = all_rows[all_rows['nursingchartcelltypevalname'] != 'Non-Invasive BP Diastolic']\n",
    "        all_rows = all_rows[all_rows['nursingchartcelltypevalname'] != 'Respiratory Rate']  \n",
    "        all_rows = all_rows[all_rows['nursingchartcelltypevalname'] != 'O2 Saturation']  \n",
    "        all_rows = all_rows[all_rows['labname'] != 'glucose']  \n",
    "        all_rows = all_rows[all_rows['labname'] != 'pH']  \n",
    "        \n",
    "        # Add new columns to all_row\n",
    "        all_rows = add_columns(all_rows, \"Heart Rate\", [maxHeartData, minHeartData, firstHeartData, lastHeartData])\n",
    "        all_rows = add_columns(all_rows, \"Respiratory Rate\", [maxRespData, minRespData,firstRespData, lastRespData])\n",
    "        all_rows = add_columns(all_rows, \"Non-Invasive BP Systolic\", [maxnibpsData, minnibpsData,firstnibpsData, lastnibpsData])\n",
    "        all_rows = add_columns(all_rows, \"Non-Invasive BP Mean\", [maxnibpsData, minnibpsData,firstnibpsData, lastnibpsData])\n",
    "        all_rows = add_columns(all_rows, \"Non-Invasive BP Diastolic\", [maxnibpdData, minnibpdData,firstnibpdData, lastnibpdData])\n",
    "        all_rows = add_columns(all_rows, \"O2 Saturation\", [maxo2Data, mino2ata,firsto2Data, lasto2Data])\n",
    "        all_rows = add_columns(all_rows, \"pH\", [maxpHData, minpHData, firstpHData, lastpHData])\n",
    "        all_rows = add_columns(all_rows, \"glucose\", [maxglData, minglData, firstglData, lastglData])\n",
    "        \n",
    "        # Multiply by len(rows) for all new columns added cuz of the sum from grouping\n",
    "        raw_rows = all_rows.groupby(['patientunitstayid']).sum(numeric_only=False)\n",
    "        raw_rows = correct_columns_div(raw_rows, 'Heart Rate', len(all_rows))\n",
    "        raw_rows = correct_columns_div(raw_rows, 'Respiratory Rate', len(all_rows))\n",
    "        raw_rows = correct_columns_div(raw_rows, 'Non-Invasive BP Systolic', len(all_rows))\n",
    "        raw_rows = correct_columns_div(raw_rows, 'Non-Invasive BP Mean', len(all_rows))\n",
    "        raw_rows = correct_columns_div(raw_rows, 'Non-Invasive BP Diastolic', len(all_rows))\n",
    "        raw_rows = correct_columns_div(raw_rows, 'O2 Saturation', len(all_rows))\n",
    "        raw_rows = correct_columns_div(raw_rows, 'pH', len(all_rows))\n",
    "        raw_rows = correct_columns_div(raw_rows, 'glucose', len(all_rows))\n",
    "\n",
    "        new_df.append(raw_rows.squeeze())\n",
    "    new_df = pd.DataFrame(new_df)\n",
    "    \n",
    "    return new_df"
   ]
  },
  {
   "cell_type": "code",
   "execution_count": 4,
   "id": "7260df1c",
   "metadata": {},
   "outputs": [],
   "source": [
    "new_df = clean_data(x)\n",
    "new_df = new_df.drop('hospitaldischargestatus', axis=1)\n",
    "new_df = new_df.drop('nursingchartvalue', axis=1)\n",
    "new_df = new_df.drop('nursingchartcelltypevalname', axis=1)\n",
    "new_df = new_df.drop('offset', axis=1)\n",
    "new_df = new_df.drop('labname', axis=1)\n",
    "new_df = new_df.drop('labresult', axis=1)"
   ]
  },
  {
   "cell_type": "code",
   "execution_count": 5,
   "id": "50d521bb",
   "metadata": {},
   "outputs": [
    {
     "name": "stdout",
     "output_type": "stream",
     "text": [
      "           age  admissionweight  gender  Max Heart Rate  Min Heart Rate  \\\n",
      "141764.0  87.0              0.0     1.0           128.0            98.0   \n",
      "141765.0  87.0             46.5     1.0           162.0            74.0   \n",
      "143870.0  76.0             77.5     0.0            55.0            40.0   \n",
      "144815.0  34.0             60.3     1.0           131.0            68.0   \n",
      "145427.0  61.0             91.7     0.0            90.0            49.0   \n",
      "\n",
      "          First Heart Rate  Last Heart Rate  Max Respiratory Rate  \\\n",
      "141764.0             128.0             98.0                   0.0   \n",
      "141765.0              76.0            110.0                  36.0   \n",
      "143870.0              53.0             45.0                  91.0   \n",
      "144815.0             110.0            108.0                  48.0   \n",
      "145427.0              78.0             61.0                  26.0   \n",
      "\n",
      "          Min Respiratory Rate  First Respiratory Rate  ...  \\\n",
      "141764.0                   0.0                     0.0  ...   \n",
      "141765.0                  14.0                    20.0  ...   \n",
      "143870.0                  12.0                    16.0  ...   \n",
      "144815.0                   7.0                    22.0  ...   \n",
      "145427.0                   9.0                    22.0  ...   \n",
      "\n",
      "          First O2 Saturation  Last O2 Saturation  Max pH  Min pH  First pH  \\\n",
      "141764.0                  0.0                 0.0    0.00    0.00      0.00   \n",
      "141765.0                 98.0                98.0    0.00    0.00      0.00   \n",
      "143870.0                 98.0                97.0    7.41    7.39      7.41   \n",
      "144815.0                100.0                99.0    7.40    7.40      7.40   \n",
      "145427.0                 98.0                95.0    0.00    0.00      0.00   \n",
      "\n",
      "          Last pH  Max glucose  Min glucose  First glucose  Last glucose  \n",
      "141764.0     0.00         0.00         0.00           0.00          0.00  \n",
      "141765.0     0.00         0.00         0.00           0.00          0.00  \n",
      "143870.0     7.39         7.41         7.39           7.41          7.39  \n",
      "144815.0     7.40         7.40         7.40           7.40          7.40  \n",
      "145427.0     0.00         0.00         0.00           0.00          0.00  \n",
      "\n",
      "[5 rows x 35 columns]\n"
     ]
    }
   ],
   "source": [
    "print(new_df.head())"
   ]
  },
  {
   "cell_type": "code",
   "execution_count": 6,
   "id": "09ac94e6",
   "metadata": {},
   "outputs": [],
   "source": [
    "X = new_df[['age', 'admissionweight', 'gender', \n",
    "            'Max Heart Rate', \n",
    "            'Min Heart Rate', \n",
    "            'First Heart Rate', \n",
    "            'Last Heart Rate',\n",
    "            \n",
    "            'Max Respiratory Rate', \n",
    "            'Min Respiratory Rate', \n",
    "            'First Respiratory Rate', \n",
    "            'Last Respiratory Rate', \n",
    "            \n",
    "            'Max Non-Invasive BP Systolic', \n",
    "            'Min Non-Invasive BP Systolic', \n",
    "            'First Non-Invasive BP Systolic', \n",
    "            'Last Non-Invasive BP Systolic', \n",
    "           \n",
    "            'Max Non-Invasive BP Mean', \n",
    "            'Min Non-Invasive BP Mean', \n",
    "            'First Non-Invasive BP Mean', \n",
    "            'Last Non-Invasive BP Mean',\n",
    "           \n",
    "            'Max Non-Invasive BP Diastolic', \n",
    "            'Min Non-Invasive BP Diastolic', \n",
    "            'First Non-Invasive BP Diastolic', \n",
    "            'Last Non-Invasive BP Diastolic',\n",
    "           \n",
    "            'Max O2 Saturation', \n",
    "            'Min O2 Saturation', \n",
    "            'First O2 Saturation', \n",
    "            'Last O2 Saturation',\n",
    "            \n",
    "            'Max glucose', \n",
    "            'Min glucose', \n",
    "            'First glucose', \n",
    "            'Last glucose',\n",
    "            \n",
    "            'First pH',\n",
    "            'Last pH',]]\n",
    "y = y = y[['hospitaldischargestatus']]"
   ]
  },
  {
   "cell_type": "code",
   "execution_count": 7,
   "id": "7321568e",
   "metadata": {},
   "outputs": [],
   "source": [
    "X_train, X_test, y_train, y_test = train_test_split(X, y, test_size=0.2, random_state=10)"
   ]
  },
  {
   "cell_type": "code",
   "execution_count": 132,
   "id": "1fa0415f",
   "metadata": {},
   "outputs": [],
   "source": [
    "# model = MLPClassifier(max_iter=100, hidden_layer_sizes=(100, 50), learning_rate='adaptive', alpha=0.05)\n",
    "# estimator = Pipeline([(\"imputer\", impute.SimpleImputer(missing_values=np.nan, strategy=\"mean\")),\n",
    "#                       (\"scaler\", preprocessing.StandardScaler()),\n",
    "#                       (\"neural_network\", model)])\n",
    "\n",
    "# mlp = MLPClassifier(max_iter=100)\n",
    "# parameter_space = {\n",
    "#     'hidden_layer_sizes': [(100,50), (50,50,50), (50,100,50), (100,)],\n",
    "#     'activation': ['tanh', 'relu'],\n",
    "#     'solver': ['sgd', 'adam'],\n",
    "#     'alpha': [0.00001, 0.05, 100],\n",
    "#     'learning_rate': ['constant','adaptive'],\n",
    "# }\n",
    "\n",
    "# clf = GridSearchCV(mlp, parameter_space, n_jobs=-1, cv=3)\n",
    "# best_clf = clf.fit(X_train, y_train.values.ravel())\n",
    "\n",
    "xgbB = xgb.XGBClassifier(random_state=42)\n",
    "pipeline2 = Pipeline([(\"imputer\", impute.SimpleImputer(missing_values=np.nan, strategy=\"mean\")),\n",
    "                     (\"scaler\", preprocessing.StandardScaler()),\n",
    "                     (\"xgb\", xgbB)])\n",
    "\n",
    "param_grid = {\n",
    "    'xgb__max_depth': [2, 4, 6, 8, 10],\n",
    "    'xgb__learning_rate': [0.01, 0.1, 0.5, 1],\n",
    "    'xgb__n_estimators': [50, 100, 200],\n",
    "    'xgb__min_child_weight': [1, 5, 10],\n",
    "    'xgb__gamma': [0, 0.1, 0.5]\n",
    "}\n",
    "\n",
    "clf = GridSearchCV(pipeline2, param_grid=param_grid, cv=5, n_jobs=-1)\n",
    "best_clf = clf.fit(X_train, y_train.values.ravel())\n"
   ]
  },
  {
   "cell_type": "code",
   "execution_count": 133,
   "id": "8c329b11",
   "metadata": {},
   "outputs": [
    {
     "name": "stdout",
     "output_type": "stream",
     "text": [
      "Pipeline(steps=[('imputer', SimpleImputer()), ('scaler', StandardScaler()),\n",
      "                ('xgb',\n",
      "                 XGBClassifier(base_score=None, booster=None, callbacks=None,\n",
      "                               colsample_bylevel=None, colsample_bynode=None,\n",
      "                               colsample_bytree=None,\n",
      "                               early_stopping_rounds=None,\n",
      "                               enable_categorical=False, eval_metric=None,\n",
      "                               feature_types=None, gamma=0, gpu_id=None,\n",
      "                               grow_policy=None, importance_type=None,\n",
      "                               interaction_constraints=None, learning_rate=0.5,\n",
      "                               max_bin=None, max_cat_threshold=None,\n",
      "                               max_cat_to_onehot=None, max_delta_step=None,\n",
      "                               max_depth=8, max_leaves=None, min_child_weight=5,\n",
      "                               missing=nan, monotone_constraints=None,\n",
      "                               n_estimators=200, n_jobs=None,\n",
      "                               num_parallel_tree=None, predictor=None,\n",
      "                               random_state=42, ...))])\n"
     ]
    }
   ],
   "source": [
    "print(best_clf.best_estimator_)\n",
    "estimator = best_clf.best_estimator_"
   ]
  },
  {
   "cell_type": "code",
   "execution_count": 134,
   "id": "f210c1a3",
   "metadata": {},
   "outputs": [
    {
     "data": {
      "text/plain": [
       "Pipeline(steps=[('imputer', SimpleImputer()), ('scaler', StandardScaler()),\n",
       "                ('xgb',\n",
       "                 XGBClassifier(base_score=None, booster=None, callbacks=None,\n",
       "                               colsample_bylevel=None, colsample_bynode=None,\n",
       "                               colsample_bytree=None,\n",
       "                               early_stopping_rounds=None,\n",
       "                               enable_categorical=False, eval_metric=None,\n",
       "                               feature_types=None, gamma=0, gpu_id=None,\n",
       "                               grow_policy=None, importance_type=None,\n",
       "                               interaction_constraints=None, learning_rate=0.5,\n",
       "                               max_bin=None, max_cat_threshold=None,\n",
       "                               max_cat_to_onehot=None, max_delta_step=None,\n",
       "                               max_depth=8, max_leaves=None, min_child_weight=5,\n",
       "                               missing=nan, monotone_constraints=None,\n",
       "                               n_estimators=200, n_jobs=None,\n",
       "                               num_parallel_tree=None, predictor=None,\n",
       "                               random_state=42, ...))])"
      ]
     },
     "execution_count": 134,
     "metadata": {},
     "output_type": "execute_result"
    }
   ],
   "source": [
    "estimator.fit(X_train, y_train.values.ravel())"
   ]
  },
  {
   "cell_type": "code",
   "execution_count": 135,
   "id": "1b523c8e",
   "metadata": {},
   "outputs": [
    {
     "name": "stdout",
     "output_type": "stream",
     "text": [
      "Accuracy of neural network classifier on the test set: 0.92\n"
     ]
    }
   ],
   "source": [
    "y_pred = estimator.predict_proba(X_test)[:,1]\n",
    "print('Accuracy of neural network classifier on the test set: {:.2f}'.format(estimator.score(X_test, y_test)))"
   ]
  },
  {
   "cell_type": "code",
   "execution_count": 136,
   "id": "f60da6f4",
   "metadata": {},
   "outputs": [
    {
     "name": "stdout",
     "output_type": "stream",
     "text": [
      "0.8812085292791343\n"
     ]
    }
   ],
   "source": [
    "nn_roc_auc = roc_auc_score(y_test.values.ravel(), estimator.predict_proba(X_test)[:,1 ])\n",
    "print(nn_roc_auc)\n",
    "\n",
    "#0.66643045803002\n",
    "#0.805900921213683\n",
    "#0.8099594150615217\n",
    "#0.8288346324808349\n",
    "#0.8285769503317657\n",
    "#0.828641370869033\n",
    "#0.8312826128969916"
   ]
  },
  {
   "cell_type": "code",
   "execution_count": 125,
   "id": "57291b48",
   "metadata": {},
   "outputs": [
    {
     "data": {
      "image/png": "[encoded data removed]",
      "text/plain": [
       "<Figure size 640x480 with 1 Axes>"
      ]
     },
     "metadata": {},
     "output_type": "display_data"
    }
   ],
   "source": [
    "y_true_binary = np.zeros_like(y_test)\n",
    "y_true_binary[y_test != 0] = 1\n",
    "fpr, tpr, thresholds = roc_curve(y_true_binary, estimator.predict_proba(X_test)[:,1])\n",
    "\n",
    "plt.figure()\n",
    "plt.plot(fpr, tpr, label='Neural Network Regression (area = %0.2f)' % nn_roc_auc)\n",
    "plt.plot([0, 1], [0, 1],'r--')\n",
    "plt.xlim([0.0, 1.0])\n",
    "plt.ylim([0.0, 1.05])\n",
    "\n",
    "plt.xlabel('False Positives')\n",
    "plt.ylabel('True Positives')\n",
    "plt.title('Receiver operating characteristic')\n",
    "plt.legend(loc=\"lower right\")\n",
    "plt.show()"
   ]
  },
  {
   "cell_type": "code",
   "execution_count": 126,
   "id": "bbbbff0f",
   "metadata": {},
   "outputs": [
    {
     "name": "stdout",
     "output_type": "stream",
     "text": [
      "           age  admissionweight  gender  Max Heart Rate  Min Heart Rate  \\\n",
      "151179.0  59.0              0.0     1.0           180.0            74.0   \n",
      "\n",
      "          First Heart Rate  Last Heart Rate  Max Respiratory Rate  \\\n",
      "151179.0             112.0             97.0                  52.0   \n",
      "\n",
      "          Min Respiratory Rate  First Respiratory Rate  ...  \\\n",
      "151179.0                  11.0                    30.0  ...   \n",
      "\n",
      "          Max O2 Saturation  Min O2 Saturation  First O2 Saturation  \\\n",
      "151179.0               99.0               84.0                 87.0   \n",
      "\n",
      "          Last O2 Saturation  First pH  Last pH  Max glucose  Min glucose  \\\n",
      "151179.0                93.0      7.23     7.23         7.23         7.23   \n",
      "\n",
      "          First glucose  Last glucose  \n",
      "151179.0           7.23          7.23  \n",
      "\n",
      "[1 rows x 33 columns]\n"
     ]
    },
    {
     "name": "stderr",
     "output_type": "stream",
     "text": [
      "/Users/lamnguyen/opt/anaconda3/lib/python3.9/site-packages/sklearn/base.py:493: FutureWarning: The feature names should match those that were passed during fit. Starting version 1.2, an error will be raised.\n",
      "Feature names must be in the same order as they were in fit.\n",
      "\n",
      "  warnings.warn(message, FutureWarning)\n"
     ]
    }
   ],
   "source": [
    "test_xdata = load_data(\"test_x.csv\")\n",
    "new_df2 = clean_data(test_xdata, True)\n",
    "new_df2 = new_df2.drop('nursingchartvalue', axis=1)\n",
    "new_df2 = new_df2.drop('nursingchartcelltypevalname', axis=1)\n",
    "new_df2 = new_df2.drop('offset', axis=1)\n",
    "new_df2 = new_df2.drop('labname', axis=1)\n",
    "new_df2 = new_df2.drop('labresult', axis=1)\n",
    "new_df2 = new_df2.drop('Max pH', axis=1)\n",
    "new_df2 = new_df2.drop('Min pH', axis=1)\n",
    "print(new_df2.head(1))\n",
    "\n",
    "y_pred2 = estimator.predict_proba(new_df2)[:,1]"
   ]
  },
  {
   "cell_type": "code",
   "execution_count": 127,
   "id": "294add08",
   "metadata": {},
   "outputs": [],
   "source": [
    "def save_to_csv(prediction_probs, y):\n",
    "    f = open(\"foo.csv\", \"w\")\n",
    "    f.write(\"patientunitstayid,hospitaldischargestatus\" + \"\\n\")\n",
    "\n",
    "    for i,j in zip(y.index.values, prediction_probs):\n",
    "        f.write(str(int(i)) + \",\" + str(j) + \"\\n\")\n",
    "    f.close()"
   ]
  },
  {
   "cell_type": "code",
   "execution_count": 128,
   "id": "243eb388",
   "metadata": {},
   "outputs": [],
   "source": [
    "save_to_csv(y_pred2, new_df2)"
   ]
  },
  {
   "cell_type": "code",
   "execution_count": null,
   "id": "e6604779",
   "metadata": {},
   "outputs": [],
   "source": []
  },
  {
   "cell_type": "code",
   "execution_count": null,
   "id": "08d09bc8",
   "metadata": {},
   "outputs": [],
   "source": []
  }
 ],
 "metadata": {
  "kernelspec": {
   "display_name": "Python 3 (ipykernel)",
   "language": "python",
   "name": "python3"
  },
  "language_info": {
   "codemirror_mode": {
    "name": "ipython",
    "version": 3
   },
   "file_extension": ".py",
   "mimetype": "text/x-python",
   "name": "python",
   "nbconvert_exporter": "python",
   "pygments_lexer": "ipython3",
   "version": "3.9.12"
  }
 },
 "nbformat": 4,
 "nbformat_minor": 5
}
