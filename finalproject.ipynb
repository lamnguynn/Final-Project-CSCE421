{
 "cells": [
  {
   "cell_type": "code",
   "execution_count": 366,
   "id": "fd5353bb",
   "metadata": {},
   "outputs": [],
   "source": [
    "import pandas as pd\n",
    "import numpy as np\n",
    "import matplotlib.pyplot as plt\n",
    "\n",
    "from numpy import NaN\n",
    "from sklearn.linear_model import LogisticRegression\n",
    "from sklearn.model_selection import train_test_split\n",
    "from sklearn.metrics import roc_auc_score, roc_curve\n",
    "from sklearn.tree import DecisionTreeClassifier\n",
    "from sklearn.pipeline import Pipeline\n",
    "from sklearn import metrics\n",
    "from sklearn import preprocessing\n",
    "\n",
    "from sklearn import impute\n"
   ]
  },
  {
   "cell_type": "code",
   "execution_count": 367,
   "id": "39b47613",
   "metadata": {},
   "outputs": [],
   "source": [
    "def load_data(x_path):\n",
    "    return pd.read_csv(x_path, low_memory=False)"
   ]
  },
  {
   "cell_type": "code",
   "execution_count": 521,
   "id": "1d16f05f",
   "metadata": {},
   "outputs": [],
   "source": [
    "x = load_data(\"train_x.csv\")\n",
    "y = load_data(\"train_y.csv\")\n",
    "mapping = dict(zip(y['patientunitstayid'], y['hospitaldischargestatus']))\n",
    "x['hospitaldischargestatus'] = x['patientunitstayid'].map(mapping)\n",
    "\n",
    "def extract_values(data, threshold):\n",
    "    if(data.empty):\n",
    "        return 0,0,0,0\n",
    "    \n",
    "    data['nursingchartvalue'] = data['nursingchartvalue'].astype(float) \n",
    "    data = data[data['nursingchartvalue'] < threshold] #remove outliers\n",
    "    data = data.sort_values('offset')     #sort by offset to get first and last values recorded\n",
    "    \n",
    "    maxHeartData = data['nursingchartvalue'].max()\n",
    "    minHeartData = data['nursingchartvalue'].min()\n",
    "    firstHeartData = data['nursingchartvalue'].iloc[0]\n",
    "    lastHeartData = data['nursingchartvalue'].iloc[-1]\n",
    "    \n",
    "    return maxHeartData, minHeartData, firstHeartData, lastHeartData\n",
    "\n",
    "def add_columns(df, name, data):\n",
    "    df[f'Max {name}'] = data[0]\n",
    "    df[f'Min {name}'] = data[1]\n",
    "    df[f'First {name}'] = data[2]\n",
    "    df[f'Last {name}'] = data[3]\n",
    "    \n",
    "    return df\n",
    "\n",
    "def correct_columns_div(df, name, size):\n",
    "    df[f'Max {name}']  = df[f'Max {name}'] / size\n",
    "    df[f'Min {name}'] = df[f'Min {name}'] / size\n",
    "    df[f'First {name}'] = df[f'First {name}'] / size\n",
    "    df[f'Last {name}'] = df[f'Last {name}'] / size\n",
    "    \n",
    "    return df\n",
    "\n",
    "def clean_data(x, no_y = False):\n",
    "    if no_y:\n",
    "        predictors = ['age', 'admissionweight', 'gender', 'patientunitstayid', 'nursingchartcelltypevalname', 'nursingchartvalue', 'offset']\n",
    "    else:\n",
    "        predictors = ['age', 'admissionweight', 'gender', 'patientunitstayid', 'nursingchartcelltypevalname', 'nursingchartvalue', 'offset', 'hospitaldischargestatus']    \n",
    "\n",
    "    x['gender'] = x['gender'].apply(lambda e: 1 if e == 'Female' else 0)\n",
    "    x['age'] = x['age'].apply(lambda e: 90 if e == '> 89' else e)\n",
    "    x['age'] = x['age'].apply(lambda e: int(e) if not e != e else e)\n",
    "    x = x[predictors]\n",
    "\n",
    "    unique_patients = x['patientunitstayid'].unique()\n",
    "    num_patients = len(unique_patients)\n",
    "    \n",
    "    new_df = []\n",
    "    for i in range(num_patients):\n",
    "        pid = unique_patients[i]\n",
    "        all_rows = x[x['patientunitstayid'] == pid]\n",
    "        \n",
    "        # Take the min and max heart rate\n",
    "        heartData = all_rows[all_rows['nursingchartcelltypevalname'] == 'Heart Rate'][['nursingchartcelltypevalname', 'nursingchartvalue', 'offset']]\n",
    "        maxHeartData, minHeartData, firstHeartData, lastHeartData = extract_values(heartData, 300)\n",
    "\n",
    "        # Take the min and max respiratory rate\n",
    "        respData = all_rows[all_rows['nursingchartcelltypevalname'] == 'Respiratory Rate'][['nursingchartcelltypevalname', 'nursingchartvalue', 'offset']]\n",
    "        maxRespData, minRespData,firstRespData, lastRespData  = extract_values(respData, 1000)\n",
    "        \n",
    "        # Take the min and max Non-Invasive BP Systolic\n",
    "        nibpsData = all_rows[all_rows['nursingchartcelltypevalname'] == 'Non-Invasive BP Systolic'][['nursingchartcelltypevalname', 'nursingchartvalue', 'offset']]\n",
    "        maxnibpsData, minnibpsData,firstnibpsData, lastnibpsData  = extract_values(nibpsData, 1000)\n",
    "        \n",
    "        # Take the min and max Non-Invasive BP Mean\n",
    "        nibpmData = all_rows[all_rows['nursingchartcelltypevalname'] == 'Non-Invasive BP Mean'][['nursingchartcelltypevalname', 'nursingchartvalue', 'offset']]\n",
    "        maxnibpmData, minnibpmData,firstnibpmData, lastnibpmData  = extract_values(nibpmData, 1000)\n",
    "        \n",
    "        # Take the min and max Non-Invasive BP Diastolic\n",
    "        nibpdData = all_rows[all_rows['nursingchartcelltypevalname'] == 'Non-Invasive BP Diastolic'][['nursingchartcelltypevalname', 'nursingchartvalue', 'offset']]\n",
    "        maxnibpdData, minnibpdData,firstnibpdData, lastnibpdData  = extract_values(nibpdData, 1000)\n",
    "        \n",
    "        # Remove certain columns\n",
    "        all_rows = all_rows[all_rows['nursingchartcelltypevalname'] != 'Heart Rate']\n",
    "        all_rows = all_rows[all_rows['nursingchartcelltypevalname'] != 'Non-Invasive BP Systolic']\n",
    "        all_rows = all_rows[all_rows['nursingchartcelltypevalname'] != 'Non-Invasive BP Mean']\n",
    "        all_rows = all_rows[all_rows['nursingchartcelltypevalname'] != 'Non-Invasive BP Diastolic']\n",
    "        all_rows = all_rows[all_rows['nursingchartcelltypevalname'] != 'Respiratory Rate']        \n",
    "        \n",
    "        # Add new columns to all_row\n",
    "        all_rows = add_columns(all_rows, \"Heart Rate\", [maxHeartData, minHeartData, firstHeartData, lastHeartData])\n",
    "        all_rows = add_columns(all_rows, \"Respiratory Rate\", [maxRespData, minRespData,firstRespData, lastRespData])\n",
    "        all_rows = add_columns(all_rows, \"Non-Invasive BP Systolic\", [maxnibpsData, minnibpsData,firstnibpsData, lastnibpsData])\n",
    "        all_rows = add_columns(all_rows, \"Non-Invasive BP Mean\", [maxnibpsData, minnibpsData,firstnibpsData, lastnibpsData])\n",
    "        all_rows = add_columns(all_rows, \"Non-Invasive BP Diastolic\", [maxnibpdData, minnibpdData,firstnibpdData, lastnibpdData])\n",
    "        \n",
    "        raw_rows = all_rows.groupby(['patientunitstayid']).sum(numeric_only=False)\n",
    "        raw_rows = correct_columns_div(raw_rows, 'Heart Rate', len(all_rows))\n",
    "        raw_rows = correct_columns_div(raw_rows, 'Respiratory Rate', len(all_rows))\n",
    "        raw_rows = correct_columns_div(raw_rows, 'Non-Invasive BP Systolic', len(all_rows))\n",
    "        raw_rows = correct_columns_div(raw_rows, 'Non-Invasive BP Mean', len(all_rows))\n",
    "        raw_rows = correct_columns_div(raw_rows, 'Non-Invasive BP Diastolic', len(all_rows))\n",
    "\n",
    "        new_df.append(raw_rows.squeeze())\n",
    "    new_df = pd.DataFrame(new_df)\n",
    "    \n",
    "    return new_df"
   ]
  },
  {
   "cell_type": "code",
   "execution_count": 522,
   "id": "7260df1c",
   "metadata": {},
   "outputs": [],
   "source": [
    "new_df = clean_data(x)\n",
    "new_df = new_df.drop('hospitaldischargestatus', axis=1)\n",
    "new_df = new_df.drop('nursingchartvalue', axis=1)\n",
    "new_df = new_df.drop('nursingchartcelltypevalname', axis=1)\n",
    "new_df = new_df.drop('offset', axis=1)"
   ]
  },
  {
   "cell_type": "code",
   "execution_count": 523,
   "id": "34a4613e",
   "metadata": {},
   "outputs": [
    {
     "name": "stdout",
     "output_type": "stream",
     "text": [
      "           age  admissionweight  gender  Max Heart Rate  Min Heart Rate  \\\n",
      "141764.0  87.0              0.0     1.0           128.0            98.0   \n",
      "141765.0  87.0             46.5     1.0           162.0            74.0   \n",
      "\n",
      "          First Heart Rate  Last Heart Rate  Max Respiratory Rate  \\\n",
      "141764.0             128.0             98.0                   0.0   \n",
      "141765.0              76.0            110.0                  36.0   \n",
      "\n",
      "          Min Respiratory Rate  First Respiratory Rate  ...  \\\n",
      "141764.0                   0.0                     0.0  ...   \n",
      "141765.0                  14.0                    20.0  ...   \n",
      "\n",
      "          First Non-Invasive BP Systolic  Last Non-Invasive BP Systolic  \\\n",
      "141764.0                           176.0                          153.0   \n",
      "141765.0                           172.0                          175.0   \n",
      "\n",
      "          Max Non-Invasive BP Mean  Min Non-Invasive BP Mean  \\\n",
      "141764.0                     182.0                     153.0   \n",
      "141765.0                     185.0                     120.0   \n",
      "\n",
      "          First Non-Invasive BP Mean  Last Non-Invasive BP Mean  \\\n",
      "141764.0                       176.0                      153.0   \n",
      "141765.0                       172.0                      175.0   \n",
      "\n",
      "          Max Non-Invasive BP Diastolic  Min Non-Invasive BP Diastolic  \\\n",
      "141764.0                          106.0                           78.0   \n",
      "141765.0                          123.0                           59.0   \n",
      "\n",
      "          First Non-Invasive BP Diastolic  Last Non-Invasive BP Diastolic  \n",
      "141764.0                             87.0                            78.0  \n",
      "141765.0                             84.0                            77.0  \n",
      "\n",
      "[2 rows x 23 columns]\n"
     ]
    }
   ],
   "source": [
    "print(new_df.head(2))"
   ]
  },
  {
   "cell_type": "code",
   "execution_count": 525,
   "id": "09ac94e6",
   "metadata": {},
   "outputs": [],
   "source": [
    "X = new_df[['age', 'admissionweight', 'gender', \n",
    "            'Max Heart Rate', \n",
    "            'Min Heart Rate', \n",
    "            'First Heart Rate', \n",
    "            'Last Heart Rate',\n",
    "            \n",
    "            'Max Respiratory Rate', \n",
    "            'Min Respiratory Rate', \n",
    "            'First Respiratory Rate', \n",
    "            'Last Respiratory Rate', \n",
    "            \n",
    "            'Max Non-Invasive BP Systolic', \n",
    "            'Min Non-Invasive BP Systolic', \n",
    "            'First Non-Invasive BP Systolic', \n",
    "            'Last Non-Invasive BP Systolic', \n",
    "           \n",
    "            'Max Non-Invasive BP Mean', \n",
    "            'Min Non-Invasive BP Mean', \n",
    "            'First Non-Invasive BP Mean', \n",
    "            'Last Non-Invasive BP Mean',\n",
    "           \n",
    "            'Max Non-Invasive BP Diastolic', \n",
    "            'Min Non-Invasive BP Diastolic', \n",
    "            'First Non-Invasive BP Diastolic', \n",
    "            'Last Non-Invasive BP Diastolic',]]\n",
    "y = y = y[['hospitaldischargestatus']]"
   ]
  },
  {
   "cell_type": "code",
   "execution_count": 526,
   "id": "6c6824f9",
   "metadata": {},
   "outputs": [],
   "source": [
    "# plt.scatter(X[['age']].squeeze(), y.squeeze())\n",
    "\n",
    "# plt.xlabel('age')\n",
    "# plt.ylabel('hospitaldischargestatus')\n",
    "# plt.show()"
   ]
  },
  {
   "cell_type": "code",
   "execution_count": 527,
   "id": "7321568e",
   "metadata": {},
   "outputs": [],
   "source": [
    "X_train, X_test, y_train, y_test = train_test_split(X, y, test_size=0.2, random_state=10)"
   ]
  },
  {
   "cell_type": "code",
   "execution_count": 528,
   "id": "88cfa6ae",
   "metadata": {},
   "outputs": [],
   "source": [
    "model = LogisticRegression(solver='lbfgs')\n",
    "estimator = Pipeline([(\"imputer\", impute.SimpleImputer(missing_values=np.nan, strategy=\"mean\")),\n",
    "                      (\"scaler\", preprocessing.StandardScaler()),\n",
    "                      (\"logistic_regression\", model)])"
   ]
  },
  {
   "cell_type": "code",
   "execution_count": 529,
   "id": "f210c1a3",
   "metadata": {},
   "outputs": [
    {
     "data": {
      "text/plain": [
       "Pipeline(steps=[('imputer', SimpleImputer()), ('scaler', StandardScaler()),\n",
       "                ('logistic_regression', LogisticRegression())])"
      ]
     },
     "execution_count": 529,
     "metadata": {},
     "output_type": "execute_result"
    }
   ],
   "source": [
    "estimator.fit(X_train, y_train.values.ravel())"
   ]
  },
  {
   "cell_type": "code",
   "execution_count": 530,
   "id": "1b523c8e",
   "metadata": {},
   "outputs": [
    {
     "name": "stdout",
     "output_type": "stream",
     "text": [
      "Accuracy of logistic regression classifier on the test set: 0.92\n"
     ]
    }
   ],
   "source": [
    "y_pred = estimator.predict_proba(X_test)[:,1]\n",
    "print('Accuracy of logistic regression classifier on the test set: {:.2f}'.format(estimator.score(X_test, y_test)))"
   ]
  },
  {
   "cell_type": "code",
   "execution_count": 531,
   "id": "f60da6f4",
   "metadata": {},
   "outputs": [
    {
     "name": "stdout",
     "output_type": "stream",
     "text": [
      "0.807318173033563\n"
     ]
    }
   ],
   "source": [
    "logit_roc_auc = roc_auc_score(y_test.values.ravel(), estimator.predict_proba(X_test)[:,1 ])\n",
    "print(logit_roc_auc)\n",
    "\n",
    "#0.66643045803002"
   ]
  },
  {
   "cell_type": "code",
   "execution_count": 534,
   "id": "57291b48",
   "metadata": {},
   "outputs": [
    {
     "data": {
      "image/png": "[encoded data removed]",
      "text/plain": [
       "<Figure size 640x480 with 1 Axes>"
      ]
     },
     "metadata": {},
     "output_type": "display_data"
    }
   ],
   "source": [
    "y_true_binary = np.zeros_like(y_test)\n",
    "y_true_binary[y_test != 0] = 1\n",
    "fpr, tpr, thresholds = roc_curve(y_true_binary, estimator.predict_proba(X_test)[:,1])\n",
    "\n",
    "plt.figure()\n",
    "plt.plot(fpr, tpr, label='Logistic Regression (area = %0.2f)' % logit_roc_auc)\n",
    "plt.plot([0, 1], [0, 1],'r--')\n",
    "plt.xlim([0.0, 1.0])\n",
    "plt.ylim([0.0, 1.05])\n",
    "\n",
    "plt.xlabel('False Positives')\n",
    "plt.ylabel('True Positives')\n",
    "plt.title('Receiver operating characteristic')\n",
    "plt.legend(loc=\"lower right\")\n",
    "plt.savefig('Log_ROC')\n",
    "plt.show()"
   ]
  },
  {
   "cell_type": "code",
   "execution_count": 535,
   "id": "bbbbff0f",
   "metadata": {},
   "outputs": [
    {
     "name": "stdout",
     "output_type": "stream",
     "text": [
      "           age  admissionweight  gender  Max Heart Rate  Min Heart Rate  \\\n",
      "151179.0  59.0              0.0     1.0           180.0            74.0   \n",
      "\n",
      "          First Heart Rate  Last Heart Rate  Max Respiratory Rate  \\\n",
      "151179.0             112.0             97.0                  52.0   \n",
      "\n",
      "          Min Respiratory Rate  First Respiratory Rate  ...  \\\n",
      "151179.0                  11.0                    30.0  ...   \n",
      "\n",
      "          First Non-Invasive BP Systolic  Last Non-Invasive BP Systolic  \\\n",
      "151179.0                            60.0                           79.0   \n",
      "\n",
      "          Max Non-Invasive BP Mean  Min Non-Invasive BP Mean  \\\n",
      "151179.0                     134.0                      40.0   \n",
      "\n",
      "          First Non-Invasive BP Mean  Last Non-Invasive BP Mean  \\\n",
      "151179.0                        60.0                       79.0   \n",
      "\n",
      "          Max Non-Invasive BP Diastolic  Min Non-Invasive BP Diastolic  \\\n",
      "151179.0                           74.0                           20.0   \n",
      "\n",
      "          First Non-Invasive BP Diastolic  Last Non-Invasive BP Diastolic  \n",
      "151179.0                             30.0                            53.0  \n",
      "\n",
      "[1 rows x 23 columns]\n"
     ]
    }
   ],
   "source": [
    "test_xdata = load_data(\"test_x.csv\")\n",
    "new_df2 = clean_data(test_xdata, True)\n",
    "new_df2 = new_df2.drop('nursingchartvalue', axis=1)\n",
    "new_df2 = new_df2.drop('nursingchartcelltypevalname', axis=1)\n",
    "new_df2 = new_df2.drop('offset', axis=1)\n",
    "print(new_df2.head(1))\n",
    "\n",
    "y_pred2 = estimator.predict_proba(new_df2)[:,1]"
   ]
  },
  {
   "cell_type": "code",
   "execution_count": 536,
   "id": "294add08",
   "metadata": {},
   "outputs": [],
   "source": [
    "def save_to_csv(prediction_probs, y):\n",
    "    f = open(\"foo.csv\", \"w\")\n",
    "    f.write(\"patientunitstayid,hospitaldischargestatus\" + \"\\n\")\n",
    "\n",
    "    for i,j in zip(y.index.values, prediction_probs):\n",
    "        f.write(str(int(i)) + \",\" + str(j) + \"\\n\")\n",
    "    f.close()"
   ]
  },
  {
   "cell_type": "code",
   "execution_count": 537,
   "id": "243eb388",
   "metadata": {},
   "outputs": [],
   "source": [
    "save_to_csv(y_pred2, new_df2)"
   ]
  },
  {
   "cell_type": "code",
   "execution_count": null,
   "id": "e6604779",
   "metadata": {},
   "outputs": [],
   "source": []
  },
  {
   "cell_type": "code",
   "execution_count": null,
   "id": "08d09bc8",
   "metadata": {},
   "outputs": [],
   "source": []
  }
 ],
 "metadata": {
  "kernelspec": {
   "display_name": "Python 3 (ipykernel)",
   "language": "python",
   "name": "python3"
  },
  "language_info": {
   "codemirror_mode": {
    "name": "ipython",
    "version": 3
   },
   "file_extension": ".py",
   "mimetype": "text/x-python",
   "name": "python",
   "nbconvert_exporter": "python",
   "pygments_lexer": "ipython3",
   "version": "3.9.12"
  }
 },
 "nbformat": 4,
 "nbformat_minor": 5
}
